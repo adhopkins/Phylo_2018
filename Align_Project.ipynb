{
 "cells": [
  {
   "cell_type": "code",
   "execution_count": 29,
   "metadata": {},
   "outputs": [
    {
     "name": "stdout",
     "output_type": "stream",
     "text": [
      "SingleLetterAlphabet() alignment with 118 rows and 629 columns\n",
      "-----WSRLVPQNWRNRVNKHRVAQN--KDLVE---Y--DSYEK...--- cretica_18\n",
      "-----WSRLVSQNWRNRINEHRVAQN--KDLVE---Y--DSYEK...L-- platycarpos_74\n",
      "-----WSRLVSQNWRNRINEHRVAQN--KDLVE---Y--DSYEK...--- ruthenica_56\n",
      "---DRWSRLVSQNWRNRINEHRVAQN--KDLVE---Y--DSYEK...--- popovii_254\n",
      "-----WSRLVSQKWRNRINEHRVAQN--QDLVE---Y--DSFEK...--- hypogaea_27\n",
      "-----WSRLVSEKWRNRINEHRVAQN--KDLVE---Y--DSYEK...--- polymorpha_2\n",
      "------SRLVSEKWRNRINEHRVAQN--KDLVE---Y--DSYEK...--- polymorpha_246_ycf1\n",
      "-----WSKLVSENWRNRINKHRVAQN--KDLVS---Y--DSYEK...--- sphaerocarpos_84\n",
      "---RQMVELVSENWRNRINKHRVAQN--KDLVS---Y--DSYEK...--- murex_222\n",
      "-----WSRLVSQNWRNRINEYRVAQN--KDLVE---Y--DSYEK...--- suffruticosa_105\n",
      "-----WSRLVSQNWRNRINEYRVAQN--KDLVE---Y--DSYEK...--- suffruticosa_336\n",
      "---DIWSRLVSQNWRNRINEYRVAQN--KDLVE---Y--DSYEK...--- suffruticosa_337\n",
      "---DIWSRLVSQNWRNRINEYRVAQN--KDLVE---Y--DSYEK...--- suffruticosa_338\n",
      "-----WSRLVSQNWRNRINEYRVAQN--KDLVE---Y--DSYEK...--- suffruticosa_leiocarpa_252\n",
      "-----WSRLVSQNWRNRINEYRVAQN--KDLVE---Y--DSYEK...--- suffruticosa_332\n",
      "-----WSRLGSQKWKNRINEHRVAQT--KDLVG---Y--DSTEK...--- secundiflora_118\n",
      "-----WSRLVSQNWRNRINEHRVAQN--KDLVE---Y--DSYEK...--- radiata_87\n",
      "-----WSRLVSQNWRNRINKHRVVQN--KDLV-------DSYEK...L-- fischeriana_88\n",
      "...\n",
      "-----WSRLVSQNWRNRINEHRVAQN--KDLVE---YVSDSYEK...--- italica_78\n"
     ]
    }
   ],
   "source": [
    "#Muscle Alignment\n",
    "from Bio.Align.Applications import MuscleCommandline\n",
    "#Path relative to project\n",
    "in_file=\"test.fasta\"\n",
    "out_file=\"align.fasta\"\n",
    "muscle_exe=\"muscle.exe\"\n",
    "#clw=True gives interleaved output needed for next step\n",
    "cline = MuscleCommandline(muscle_exe, input=in_file, out=out_file, clw=True)\n",
    "#Converting MUSCLE output to string\n",
    "stdout, stderr = cline(in_file)\n",
    "from io import StringIO\n",
    "from Bio import AlignIO\n",
    "align = AlignIO.read(out_file, \"clustal\")\n",
    "print(align)"
   ]
  }
 ],
 "metadata": {
  "kernelspec": {
   "display_name": "Python 3",
   "language": "python",
   "name": "python3"
  },
  "language_info": {
   "codemirror_mode": {
    "name": "ipython",
    "version": 3
   },
   "file_extension": ".py",
   "mimetype": "text/x-python",
   "name": "python",
   "nbconvert_exporter": "python",
   "pygments_lexer": "ipython3",
   "version": "3.6.5"
  }
 },
 "nbformat": 4,
 "nbformat_minor": 2
}
